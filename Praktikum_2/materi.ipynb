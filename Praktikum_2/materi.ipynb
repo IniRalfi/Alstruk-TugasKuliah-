{
 "cells": [
  {
   "cell_type": "code",
   "execution_count": 3,
   "metadata": {},
   "outputs": [
    {
     "name": "stdout",
     "output_type": "stream",
     "text": [
      "Posisi bilangan 53 didalam list S adalah posisi nomor 7\n"
     ]
    }
   ],
   "source": [
    "#Sequential Search\n",
    "def seq_search(nums,x):\n",
    "    for i in range(len(nums)):\n",
    "        if x == nums[i]:\n",
    "            return i\n",
    "    return -1\n",
    "\n",
    "S = [11,37,45,26,59,28,17,53]\n",
    "x = 53\n",
    "pos = seq_search(S,x)\n",
    "print(f'Posisi bilangan {x} didalam list S adalah posisi nomor {pos}')"
   ]
  },
  {
   "cell_type": "code",
   "execution_count": 4,
   "metadata": {},
   "outputs": [
    {
     "name": "stdout",
     "output_type": "stream",
     "text": [
      "Posisi bilangan 99 didalam list S adalah posisi nomor -1\n"
     ]
    }
   ],
   "source": [
    "#Sequential Search\n",
    "def seq_search(nums,x):\n",
    "    for i in range(len(nums)):\n",
    "        if x == nums[i]:\n",
    "            return i\n",
    "    return -1\n",
    "\n",
    "S = [11,37,45,26,59,28,17,53]\n",
    "x = 99\n",
    "pos = seq_search(S,x)\n",
    "print(f'Posisi bilangan {x} didalam list S adalah posisi nomor {pos}')"
   ]
  },
  {
   "cell_type": "code",
   "execution_count": null,
   "metadata": {},
   "outputs": [
    {
     "name": "stdout",
     "output_type": "stream",
     "text": [
      "[12, 12, 14, 15]\n",
      "Posisi bilangan 12 didalam list S adalah posisi nomor 0\n",
      "Posisi bilangan 12 didalam list S adalah posisi nomor 1\n"
     ]
    }
   ],
   "source": [
    "#Latihan 1\n",
    "\n",
    "def seq_search(nums,x):\n",
    "    for i in range(len(nums)):\n",
    "        if x == nums[i]:\n",
    "            print(f'Posisi bilangan {x} didalam list S adalah posisi nomor {i}')\n",
    "            \n",
    "\n",
    "def inpdata():\n",
    "    data = []\n",
    "    a = int(input('Masukkan jumlah data : '))\n",
    "    for i in range(a):\n",
    "        inp = int(input('Data :'))\n",
    "        data.append(inp)\n",
    "\n",
    "    print(data)\n",
    "    x = int(input('Masukkan nilai yang ingin dicari'))\n",
    "    return data , x\n",
    "\n",
    "nums,x = inpdata()\n",
    "seq_search(nums,x)\n"
   ]
  },
  {
   "cell_type": "code",
   "execution_count": 15,
   "metadata": {},
   "outputs": [
    {
     "name": "stdout",
     "output_type": "stream",
     "text": [
      "[12, 3, 23, 23]\n",
      "Posisi bilangan 23 didalam list S adalah posisi nomor 2\n"
     ]
    }
   ],
   "source": [
    "#Latihan 2\n",
    "\n",
    "def seq_search(nums,x):\n",
    "    for i in range(len(nums)):\n",
    "        if x == nums[i]:\n",
    "            return i\n",
    "    \n",
    "    return('Nilai tidak di temukan')\n",
    "\n",
    "def inpdata():\n",
    "    a = int(input('Masukkan jumlah data : '))\n",
    "    for i in range(a):\n",
    "        inp = int(input('Data : '))\n",
    "        data.append(inp)\n",
    "\n",
    "    print(data)\n",
    "\n",
    "data = []\n",
    "global nums, x, pos\n",
    "inpdata()\n",
    "x = int(input('Masukkan nilai yang ingin dicari : '))\n",
    "pos = seq_search(data,x)\n",
    "print(f'Posisi bilangan {x} didalam list S adalah posisi nomor {pos}')"
   ]
  },
  {
   "cell_type": "code",
   "execution_count": null,
   "metadata": {},
   "outputs": [
    {
     "name": "stdout",
     "output_type": "stream",
     "text": [
      "[[13, 44, 46, 33, 57], [45, 67, 54, 32, 45], [89, 90, 87, 65, 44], [23, 45, 67, 32, 10]]\n",
      "[13, 44, 46, 33, 57]\n",
      "[89, 90, 87, 65, 44]\n",
      "46\n",
      "65\n",
      "13 44 46 33 57 \n",
      "45 67 54 32 45 \n",
      "89 90 87 65 44 \n",
      "23 45 67 32 10 \n"
     ]
    }
   ],
   "source": [
    "#Latihan 3\n",
    "data=[[13,44,46,33,57],[45,67,54,32,45],[89,90,87,65,44],[23,45,67,32,10]]\n",
    "print(data)\n",
    "print(data[0])\n",
    "print(data[2])\n",
    "print(data[0][2])\n",
    "print(data[2][3])\n",
    "\n",
    "for i in data:\n",
    "    for j in i :\n",
    "        print(j, end = ' ')\n",
    "    print()"
   ]
  },
  {
   "cell_type": "code",
   "execution_count": null,
   "metadata": {},
   "outputs": [
    {
     "name": "stdout",
     "output_type": "stream",
     "text": [
      "dani ---> 78\n",
      "budi ---> 88\n",
      "lala ---> 92\n"
     ]
    }
   ],
   "source": [
    "#Latihan 4\n",
    "#contoh 1\n",
    "nama = ['dani', 'budi', 'lala']\n",
    "nilai = ['78','88','92']\n",
    "\n",
    "for i,raport in enumerate(nama):\n",
    "    print(f'{raport} ---> {nilai[i]}')\n",
    "\n"
   ]
  },
  {
   "cell_type": "code",
   "execution_count": 36,
   "metadata": {},
   "outputs": [
    {
     "name": "stdout",
     "output_type": "stream",
     "text": [
      "0 1\n"
     ]
    }
   ],
   "source": [
    "#Latihan 4\n",
    "#contoh 2\n",
    "\n",
    "mymatrix = [[12,24,36],[34,25,46],[27,38,49]]\n",
    "\n",
    "for i,j in enumerate(mymatrix):\n",
    "    for k,l in enumerate(j):\n",
    "        if l == 24:\n",
    "            print(i,k)"
   ]
  },
  {
   "cell_type": "code",
   "execution_count": 1,
   "metadata": {},
   "outputs": [
    {
     "name": "stdout",
     "output_type": "stream",
     "text": [
      "Program input bilangan matriks dinamis\n",
      "23 21 23 \n",
      "23 21 23 \n",
      "23 21 23 \n"
     ]
    }
   ],
   "source": [
    "#Latihan 5\n",
    "print('Program input bilangan matriks dinamis')\n",
    "bar = int(input('Jumlah baris : '))\n",
    "kol = int(input('Jumlah kolom : '))\n",
    "matriks =[]\n",
    "for i in range(bar):\n",
    "    a =[]\n",
    "    for j in range(kol):\n",
    "        a.append(int(input('Masukkan Data : ')))\n",
    "    matriks.append(a)\n",
    "\n",
    "for i in range(bar):\n",
    "    for i in range(kol):\n",
    "        print(matriks[i][j], end = ' ')\n",
    "    print()"
   ]
  },
  {
   "cell_type": "code",
   "execution_count": null,
   "metadata": {},
   "outputs": [
    {
     "name": "stdout",
     "output_type": "stream",
     "text": [
      "13 44 46 33 57 \n",
      "45 67 54 32 45 \n",
      "89 90 87 65 44 \n",
      "23 45 67 32 10 \n",
      "\n",
      "Posisi bilangan 90 didalam list data adalah posisi nomor (2, 1)\n"
     ]
    }
   ],
   "source": [
    "#Latian 6\n",
    "data=[[13,44,46,33,57],[45,67,54,32,45],[89,90,87,65,44],[23,45,67,32,10]]\n",
    "global rows, colums\n",
    "\n",
    "for rows in data:\n",
    "    for colums in rows:\n",
    "        print(colums, end=' ')\n",
    "    print()\n",
    "\n",
    "x = int(input('Masukkan nilai yang ingin dicari : '))\n",
    "print()\n",
    "for i,j in enumerate(data):\n",
    "    for k,l in enumerate(j):\n",
    "        if l==x:\n",
    "            print(f'Posisi bilangan {x} didalam list data adalah posisi nomor {i,k}')\n",
    "        else:\n",
    "            print('data tidak ditemukan')"
   ]
  },
  {
   "cell_type": "code",
   "execution_count": 46,
   "metadata": {},
   "outputs": [
    {
     "name": "stdout",
     "output_type": "stream",
     "text": [
      "13 44 46 33 57 \n",
      "45 67 54 32 45 \n",
      "89 90 87 65 44 \n",
      "23 45 67 32 10 \n",
      "\n",
      "Posisi bilangan 44 didalam list adalah posisi nomor (0, 1)\n"
     ]
    }
   ],
   "source": [
    "#Latihan 7\n",
    "data=[[13,44,46,33,57],[45,67,54,32,45],[89,90,87,65,44],[23,45,67,32,10]]\n",
    "global rows, colums, x, pos\n",
    "\n",
    "for rows in data:\n",
    "    for colums in rows:\n",
    "        print(colums, end=' ')\n",
    "    print()\n",
    "\n",
    "def seq_search(data,x):\n",
    "    for i,j in enumerate(data):\n",
    "        for k,l in enumerate(j):\n",
    "            if l == x:\n",
    "                return(i,k)\n",
    "    \n",
    "    return ('Nilai tidak ditemukan')\n",
    "\n",
    "x = int(input('Masukkan nilai yang ingin di cari : '))\n",
    "\n",
    "pos = seq_search(data,x)\n",
    "print()\n",
    "print(f'Posisi bilangan {x} didalam list adalah posisi nomor {pos}')"
   ]
  },
  {
   "cell_type": "code",
   "execution_count": 42,
   "metadata": {},
   "outputs": [
    {
     "name": "stdout",
     "output_type": "stream",
     "text": [
      "Posisi bilangan 26 didalam list S adalah posisi nomor 2\n"
     ]
    }
   ],
   "source": [
    "#Latihan 8\n",
    "def bin_search(nums,x):\n",
    "    low,high = 0,len(nums)\n",
    "    while low <= high:\n",
    "        mid = (low + high)//2\n",
    "        if nums[mid] == x:\n",
    "            return mid\n",
    "        elif nums[mid] > x:\n",
    "            high = mid - 1\n",
    "        else: \n",
    "            low = mid +1\n",
    "    \n",
    "    return('tidak di temukan dalam list')\n",
    "\n",
    "S = [11,17,26,28,37,45,53,59]\n",
    "x = int(input('Masukkan bilangan yang ingin dicari : '))\n",
    "\n",
    "pos = bin_search(S,x)\n",
    "print(f'Posisi bilangan {x} didalam list S adalah posisi nomor {pos}')"
   ]
  }
 ],
 "metadata": {
  "kernelspec": {
   "display_name": "Python 3",
   "language": "python",
   "name": "python3"
  },
  "language_info": {
   "codemirror_mode": {
    "name": "ipython",
    "version": 3
   },
   "file_extension": ".py",
   "mimetype": "text/x-python",
   "name": "python",
   "nbconvert_exporter": "python",
   "pygments_lexer": "ipython3",
   "version": "3.12.3"
  }
 },
 "nbformat": 4,
 "nbformat_minor": 2
}
