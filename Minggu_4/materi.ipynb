{
 "cells": [
  {
   "cell_type": "code",
   "execution_count": null,
   "metadata": {},
   "outputs": [
    {
     "name": "stdout",
     "output_type": "stream",
     "text": [
      "Sebelum di sortir [50, 30, 40, 10, 20]\n",
      "[50, 30, 40, 10, 20]\n",
      "[30, 40, 10, 20, 50]\n",
      "[30, 10, 20, 40, 50]\n",
      "[10, 20, 30, 40, 50]\n",
      "[10, 20, 30, 40, 50]\n",
      "Setelah di sortir [10, 20, 30, 40, 50]\n"
     ]
    }
   ],
   "source": [
    "#bubblesort\n",
    "def bubblesort(S):\n",
    "    n = len(S)\n",
    "    for i in range(n):\n",
    "        print(S)\n",
    "        for j in range (n-1):\n",
    "            if S[j] > S[j+1]:\n",
    "                S[j],S[j+1] = S[j+1], S[j]\n",
    "    return S\n",
    "    \n",
    "S = [50,30,40,10,20]\n",
    "print(f'Sebelum di sortir {S}')\n",
    "bubblesort(S)\n",
    "print(f'Setelah di sortir {S}')"
   ]
  },
  {
   "cell_type": "code",
   "execution_count": 4,
   "metadata": {},
   "outputs": [
    {
     "name": "stdout",
     "output_type": "stream",
     "text": [
      "Sebelum di sortir ['S', 'i', 's', 't', 'e', 'm', ' ', 'i', 'n', 'f', 'o', 'r', 'm', 'a', 's', 'i', ' ', 'k', 'e', 'l', 'a', 's', ' ', 'p', 'a', 'k', ' ', 'i', 'l', 'h', 'a', 'm']\n",
      "Sesudah di sortir [' ', ' ', ' ', ' ', 'S', 'a', 'a', 'a', 'a', 'e', 'e', 'f', 'h', 'i', 'i', 'i', 'i', 'k', 'k', 'l', 'l', 'm', 'm', 'm', 'n', 'o', 'p', 'r', 's', 's', 's', 't']\n"
     ]
    }
   ],
   "source": [
    "def bubblesort(S):\n",
    "    n = len(S)\n",
    "    for i in range(n):\n",
    "        # print(S)\n",
    "        for j in range (n-1):\n",
    "            if S[j] > S[j+1]:\n",
    "                S[j],S[j+1] = S[j+1], S[j]\n",
    "    return S\n",
    "\n",
    "S = list('Sistem informasi kelas pak ilham')\n",
    "print(f'Sebelum di sortir {S}')\n",
    "bubblesort(S)\n",
    "print(f'Sesudah di sortir {S}')"
   ]
  },
  {
   "cell_type": "code",
   "execution_count": 5,
   "metadata": {},
   "outputs": [
    {
     "name": "stdout",
     "output_type": "stream",
     "text": [
      "List Belum urut adalah ['Rafli', 'Nabila', 'Pratama', 'Juwita', 'Rivaldi']\n",
      "List terurutnya adalah ['Juwita', 'Nabila', 'Pratama', 'Rafli', 'Rivaldi']\n"
     ]
    }
   ],
   "source": [
    "#Latihan 2\n",
    "L=[]\n",
    "for i in range(5):\n",
    "    nm = input('Masukkan nama')\n",
    "    L.append(nm)\n",
    "print(f'List Belum urut adalah {L}')\n",
    "n = len(L)\n",
    "for i in range(n):\n",
    "    for j in range(n -1):\n",
    "        if L[j] > L[j+1]:\n",
    "            L[j],L[j+1] = L[j+1], L[j]\n",
    "print(f'List terurutnya adalah {L}')\n"
   ]
  },
  {
   "cell_type": "code",
   "execution_count": 3,
   "metadata": {},
   "outputs": [
    {
     "name": "stdout",
     "output_type": "stream",
     "text": [
      "List belum terurut adalah [4, 6, 5, 4, 3, 4, 5, 6, 7, 6]\n",
      "list terurutnya adalah [3, 4, 4, 4, 5, 5, 6, 6, 6, 7]\n"
     ]
    }
   ],
   "source": [
    "#Latihan 3\n",
    "\n",
    "L = []\n",
    "while True:\n",
    "    nm = int(input('Masukkan angka'))\n",
    "    if nm != 0:\n",
    "        L.append(nm)\n",
    "    else:\n",
    "        break\n",
    "\n",
    "print(f'List belum terurut adalah {L}')\n",
    "n = len(L)\n",
    "for i in range(n):\n",
    "    for j in range(n -1):\n",
    "        if L[j] > L[j+1]:\n",
    "            L[j],L[j+1] = L[j+1], L[j]\n",
    "\n",
    "print(f'list terurutnya adalah {L}')"
   ]
  },
  {
   "cell_type": "code",
   "execution_count": 5,
   "metadata": {},
   "outputs": [
    {
     "name": "stdout",
     "output_type": "stream",
     "text": [
      "Sebelum di urutkan [[84], [27], [82], [2], [11], [65], [1], [42], [87], [12]]\n",
      "Data setelah di urutkan [[1], [2], [11], [12], [27], [42], [65], [82], [84], [87]]\n"
     ]
    }
   ],
   "source": [
    "def bubblesort(S):\n",
    "    n = len(S)\n",
    "    for i in range(n):\n",
    "        # print(S)\n",
    "        for j in range (n-1):\n",
    "            if S[j] > S[j+1]:\n",
    "                S[j],S[j+1] = S[j+1], S[j]\n",
    "    return S\n",
    "\n",
    "data1 = []\n",
    "import random as r\n",
    "for i in range(10):\n",
    "    data = [r.randint(0,100)]\n",
    "    data1.append(data)\n",
    "\n",
    "print(f'Sebelum di urutkan {data1}')\n",
    "\n",
    "urut = bubblesort(data1)\n",
    "\n",
    "print(f'Data setelah di urutkan {urut}')"
   ]
  },
  {
   "cell_type": "code",
   "execution_count": null,
   "metadata": {},
   "outputs": [
    {
     "name": "stdout",
     "output_type": "stream",
     "text": [
      "Sebelum di sortir [45, 43, 47, 40, 20]\n",
      "[45, 43, 47, 40, 20]\n",
      "[43, 45, 40, 20, 47]\n",
      "[43, 40, 20, 45, 47]\n",
      "[40, 20, 43, 45, 47]\n",
      "[20, 40, 43, 45, 47]\n",
      "Setelah di sortir [20, 40, 43, 45, 47]\n"
     ]
    }
   ],
   "source": [
    "def bubblesort(S):\n",
    "    n = len(S)\n",
    "    for i in range(n):\n",
    "        print(S)\n",
    "        for j in range (n-1):\n",
    "            if S[j] > S[j+1]:\n",
    "                S[j],S[j+1] = S[j+1], S[j]\n",
    "    return S\n",
    "\n",
    "S = [45,43,47,40,20]\n",
    "print(f'Sebelum di sortir {S}')\n",
    "bubblesort(S)\n",
    "print(f'Setelah di sortir {S}')"
   ]
  }
 ],
 "metadata": {
  "kernelspec": {
   "display_name": "Python 3",
   "language": "python",
   "name": "python3"
  },
  "language_info": {
   "codemirror_mode": {
    "name": "ipython",
    "version": 3
   },
   "file_extension": ".py",
   "mimetype": "text/x-python",
   "name": "python",
   "nbconvert_exporter": "python",
   "pygments_lexer": "ipython3",
   "version": "3.12.5"
  }
 },
 "nbformat": 4,
 "nbformat_minor": 2
}
