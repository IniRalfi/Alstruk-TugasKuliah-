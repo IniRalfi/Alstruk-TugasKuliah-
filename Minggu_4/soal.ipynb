{
 "cells": [
  {
   "cell_type": "code",
   "execution_count": 28,
   "metadata": {},
   "outputs": [
    {
     "name": "stdout",
     "output_type": "stream",
     "text": [
      "Sebelum di urutkan [['Alan', 72], ['Budi', 55], ['Kusuma', 82], ['Ardi', 61], ['Taufik', 95], ['Desi', 63]]\n",
      "Setelah di urutkan [['Budi', 55], ['Ardi', 61], ['Desi', 63], ['Alan', 72], ['Kusuma', 82], ['Taufik', 95]]\n"
     ]
    }
   ],
   "source": [
    "#Percobaan 1\n",
    "def bubblesort(S):\n",
    "    n = len(S)\n",
    "    for i in range(n):\n",
    "        # print(S)\n",
    "        for j in range (n-1):\n",
    "            if S[j][1] > S[j+1][1]:\n",
    "                S[j],S[j+1] = S[j+1], S[j]\n",
    "    return S\n",
    "\n",
    "S = [['Alan', 72], ['Budi', 55], ['Kusuma', 82], ['Ardi', 61], ['Taufik', 95], ['Desi',63]]\n",
    "print(f'Sebelum di urutkan {S}')\n",
    "bubblesort(S)\n",
    "print(f'Setelah di urutkan {S}')"
   ]
  },
  {
   "cell_type": "code",
   "execution_count": null,
   "metadata": {},
   "outputs": [
    {
     "name": "stdout",
     "output_type": "stream",
     "text": [
      "Sebelum di urutkan [['Rafli', 90], ['Nabila', 100], ['Elga', 75], ['Tedrik', 80], ['Nabila Imoed', 10000]]\n",
      "Setelah di urutkan [['Elga', 75], ['Tedrik', 80], ['Rafli', 90], ['Nabila', 100], ['Nabila Imoed', 10000]]\n"
     ]
    }
   ],
   "source": [
    "def bubblesort(S):\n",
    "    n = len(S)\n",
    "    for i in range(n):\n",
    "        # print(S)\n",
    "        for j in range (n-1):\n",
    "            if S[j][1] > S[j+1][1]:\n",
    "                S[j],S[j+1] = S[j+1], S[j] \n",
    "    return S\n",
    "\n",
    "def input_data ():\n",
    "    data = []\n",
    "    while True:\n",
    "        nama = input('Masukkan nama : (\"stop\") untuk berhenti')\n",
    "        if nama in ['stop','Stop', 'STOP']:\n",
    "            break\n",
    "        nilai = int(input('Masukkan Nilai'))\n",
    "        data.append([nama,nilai])\n",
    "    return data\n",
    "\n",
    "data = input_data()\n",
    "print(f'Sebelum di urutkan {data}')\n",
    "bubblesort(data)\n",
    "print(f'Setelah di urutkan {data}')"
   ]
  }
 ],
 "metadata": {
  "kernelspec": {
   "display_name": "Python 3",
   "language": "python",
   "name": "python3"
  },
  "language_info": {
   "codemirror_mode": {
    "name": "ipython",
    "version": 3
   },
   "file_extension": ".py",
   "mimetype": "text/x-python",
   "name": "python",
   "nbconvert_exporter": "python",
   "pygments_lexer": "ipython3",
   "version": "3.12.5"
  }
 },
 "nbformat": 4,
 "nbformat_minor": 2
}
