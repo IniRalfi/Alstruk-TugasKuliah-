{
 "cells": [
  {
   "cell_type": "code",
   "execution_count": 29,
   "metadata": {},
   "outputs": [
    {
     "name": "stdout",
     "output_type": "stream",
     "text": [
      "3\n",
      "di atas adalah tipe data <class 'int'>\n",
      "\n",
      "Ini angkanya : 4\n"
     ]
    }
   ],
   "source": [
    "#tipe data integer\n",
    "a = 3\n",
    "print(a)\n",
    "print(f'di atas adalah tipe data {type(a)}')\n",
    "print()\n",
    "\n",
    "a = int(input('Masukkan angka nya : '))\n",
    "print(f'Ini angkanya : {a}')"
   ]
  },
  {
   "cell_type": "code",
   "execution_count": 2,
   "metadata": {},
   "outputs": [
    {
     "name": "stdout",
     "output_type": "stream",
     "text": [
      "3.14\n",
      "di atas adalah tipe data <class 'float'>\n",
      "\n",
      "Ini angka nya : 5.0\n"
     ]
    }
   ],
   "source": [
    "#tipe data float\n",
    "float1 = 3.14\n",
    "print(float1)\n",
    "print(f'di atas adalah tipe data {type(float1)}')\n",
    "print()\n",
    "\n",
    "float1 = float(input('Masukkan angka float nya : '))\n",
    "print(f'Ini angka nya : {float1}')"
   ]
  },
  {
   "cell_type": "code",
   "execution_count": 3,
   "metadata": {},
   "outputs": [
    {
     "name": "stdout",
     "output_type": "stream",
     "text": [
      "\"Ini adalah string\"\n",
      "di atas adalah tipe data <class 'str'>\n",
      "\n",
      "Ini adalah teks nya : Rafli\n"
     ]
    }
   ],
   "source": [
    "#tipe data string\n",
    "strings = '\"Ini adalah string\"'\n",
    "print(strings)\n",
    "print(f'di atas adalah tipe data {type(strings)}')\n",
    "print()\n",
    "\n",
    "strings = input('Masukkan teks nya : ')\n",
    "print(f'Ini adalah teks nya : {strings}')"
   ]
  },
  {
   "cell_type": "code",
   "execution_count": 30,
   "metadata": {},
   "outputs": [
    {
     "name": "stdout",
     "output_type": "stream",
     "text": [
      "True\n",
      "di atas adalah tipe data <class 'bool'>\n",
      "\n"
     ]
    }
   ],
   "source": [
    "#tipe data Boolean\n",
    "bool1 = True\n",
    "print(bool1)\n",
    "print(f'di atas adalah tipe data {type(bool1)}')\n",
    "print()\n"
   ]
  },
  {
   "cell_type": "code",
   "execution_count": 31,
   "metadata": {},
   "outputs": [
    {
     "name": "stdout",
     "output_type": "stream",
     "text": [
      "0x7b\n",
      "di atas adalah tipe data <class 'str'>\n",
      "\n"
     ]
    }
   ],
   "source": [
    "#tipe daya hexadecimal\n",
    "hexsa = hex(123)\n",
    "print(hexsa)\n",
    "print(f'di atas adalah tipe data {type(hexsa)}')\n",
    "print()\n"
   ]
  },
  {
   "cell_type": "code",
   "execution_count": 32,
   "metadata": {},
   "outputs": [
    {
     "name": "stdout",
     "output_type": "stream",
     "text": [
      "(5+3j)\n",
      "di atas adalah tipe data <class 'complex'>\n",
      "\n"
     ]
    }
   ],
   "source": [
    "\n",
    "#tipe data complex\n",
    "comp = 3j + 5\n",
    "print(comp)\n",
    "print(f'di atas adalah tipe data {type(comp)}')\n",
    "print()\n"
   ]
  },
  {
   "cell_type": "code",
   "execution_count": 6,
   "metadata": {},
   "outputs": [
    {
     "name": "stdout",
     "output_type": "stream",
     "text": [
      "[1, 4, 5, False, 6.56, True]\n",
      "di atas adalah tipe data <class 'list'>\n",
      "[[1, 4, 5, False, 6.56, True], [1, 4, 5, False, 6.56, True], [1, 4, 5, False, 6.56, True], [1, 4, 5, False, 6.56, True], [1, 4, 5, False, 6.56, True], [1, 4, 5, False, 6.56, True], [1, 4, 5, False, 6.56, True], [1, 4, 5, False, 6.56, True]]\n"
     ]
    }
   ],
   "source": [
    "#tipe data list\n",
    "list1 = [1,4,5,False,6.56,True]\n",
    "print(list1)\n",
    "print(f'di atas adalah tipe data {type(list1)}')\n",
    "z = [list1] * 8\n",
    "print(z)\n"
   ]
  },
  {
   "cell_type": "code",
   "execution_count": 7,
   "metadata": {},
   "outputs": [
    {
     "name": "stdout",
     "output_type": "stream",
     "text": [
      "[1, 4, 5, False, 6.56, True, False]\n"
     ]
    }
   ],
   "source": [
    "#method pada tipe data list\n",
    "#append list.append(i)\n",
    "list1 = [1,4,5,False,6.56,True]\n",
    "list1.append(False)\n",
    "print(list1)\n",
    "\n"
   ]
  },
  {
   "cell_type": "code",
   "execution_count": 33,
   "metadata": {},
   "outputs": [
    {
     "name": "stdout",
     "output_type": "stream",
     "text": [
      "[1, 4, 1900, 5, False, 6.56, True]\n"
     ]
    }
   ],
   "source": [
    "#insert list.inset(i)\n",
    "list_insert1 = [1,4,5,False,6.56,True]\n",
    "list_insert1.insert(2, 1900)\n",
    "print(list_insert1)"
   ]
  },
  {
   "cell_type": "code",
   "execution_count": 34,
   "metadata": {},
   "outputs": [
    {
     "name": "stdout",
     "output_type": "stream",
     "text": [
      "[1, 5, False, 6.56, True]\n"
     ]
    }
   ],
   "source": [
    "#pop list.pop(i)\n",
    "list_pop1 = [1,4,5,False,6.56,True]\n",
    "list_pop1.pop(1)\n",
    "print(list_pop1)"
   ]
  },
  {
   "cell_type": "code",
   "execution_count": 8,
   "metadata": {},
   "outputs": [
    {
     "name": "stdout",
     "output_type": "stream",
     "text": [
      "[1, 4, 5, False, 6.56, True]\n",
      "[False, 1, True, 4, 5, 6.56]\n"
     ]
    }
   ],
   "source": [
    "#sort\n",
    "list_sort = [1,4,5,False,6.56,True]\n",
    "print(list_sort)\n",
    "list_sort.sort()\n",
    "print(list_sort)\n"
   ]
  },
  {
   "cell_type": "code",
   "execution_count": 35,
   "metadata": {},
   "outputs": [
    {
     "name": "stdout",
     "output_type": "stream",
     "text": [
      "[True, 6.56, False, 5, 4, 1]\n"
     ]
    }
   ],
   "source": [
    "#reverse\n",
    "list_reverse = [1,4,5,False,6.56,True]\n",
    "list_reverse.reverse()\n",
    "print(list_reverse)\n"
   ]
  },
  {
   "cell_type": "code",
   "execution_count": 39,
   "metadata": {},
   "outputs": [
    {
     "name": "stdout",
     "output_type": "stream",
     "text": [
      "[4, 5, False, 6.56, True]\n"
     ]
    }
   ],
   "source": [
    "#remove\n",
    "list_remove = [1,4,5,False,6.56,True]\n",
    "list_remove.remove(1)\n",
    "print(list_remove)"
   ]
  },
  {
   "cell_type": "code",
   "execution_count": 40,
   "metadata": {},
   "outputs": [
    {
     "name": "stdout",
     "output_type": "stream",
     "text": [
      "[1, 4, 5, False, 6.56]\n"
     ]
    }
   ],
   "source": [
    "#del\n",
    "list_del = [1,4,5,False,6.56,True]\n",
    "del list_del[-1]\n",
    "print(list_del)"
   ]
  },
  {
   "cell_type": "code",
   "execution_count": 41,
   "metadata": {},
   "outputs": [
    {
     "name": "stdout",
     "output_type": "stream",
     "text": [
      "1\n"
     ]
    }
   ],
   "source": [
    "#index\n",
    "list_index =[1,4,5,False,6.56,True]\n",
    "print(list_index.index(4))  \n"
   ]
  },
  {
   "cell_type": "code",
   "execution_count": 43,
   "metadata": {},
   "outputs": [
    {
     "name": "stdout",
     "output_type": "stream",
     "text": [
      "1\n"
     ]
    }
   ],
   "source": [
    "#count\n",
    "list_count = [1,4,5,False,6.56,True]\n",
    "print(list_count.count(4))"
   ]
  },
  {
   "cell_type": "code",
   "execution_count": 9,
   "metadata": {},
   "outputs": [
    {
     "name": "stdout",
     "output_type": "stream",
     "text": [
      "Es Teler\n"
     ]
    }
   ],
   "source": [
    "#list 2 dimensi\n",
    "list_minuman = [\n",
    "    ['Kopi', 'Susu', 'Teh'],\n",
    "    ['Jus Apel', 'Jus Melon', 'Jus Jeruk'],\n",
    "    ['Es Kopi', 'Es Campur', 'Es Teler']\n",
    "]\n",
    "# ingin mengambil es teler\n",
    "print(list_minuman[2][2])"
   ]
  },
  {
   "cell_type": "code",
   "execution_count": 44,
   "metadata": {},
   "outputs": [
    {
     "name": "stdout",
     "output_type": "stream",
     "text": [
      "f\n"
     ]
    },
    {
     "data": {
      "text/plain": [
       "13"
      ]
     },
     "execution_count": 44,
     "metadata": {},
     "output_type": "execute_result"
    }
   ],
   "source": [
    "namaSaya = 'Rafli Pratama'\n",
    "print(namaSaya[2])\n",
    "len(namaSaya)"
   ]
  },
  {
   "cell_type": "code",
   "execution_count": 45,
   "metadata": {},
   "outputs": [
    {
     "name": "stdout",
     "output_type": "stream",
     "text": [
      "Rafli Pratama\n",
      "Menggunakan methode \"center\"\n",
      "                  Rafli Pratama                   \n"
     ]
    }
   ],
   "source": [
    "# string merhod\n",
    "\n",
    "#center\n",
    "nama_user = 'Rafli Pratama'\n",
    "print(nama_user)\n",
    "print('Menggunakan methode \"center\"')\n",
    "print(nama_user.center(50))"
   ]
  },
  {
   "cell_type": "code",
   "execution_count": 47,
   "metadata": {},
   "outputs": [
    {
     "name": "stdout",
     "output_type": "stream",
     "text": [
      "Kemunculan Hufur a dalam Rafli Pratama : 4\n"
     ]
    }
   ],
   "source": [
    "#count\n",
    "nama_user = 'Rafli Pratama'\n",
    "huruf = 'a'\n",
    "print(f'Kemunculan Hufur {huruf} dalam {nama_user} : {nama_user.count(huruf)}')"
   ]
  },
  {
   "cell_type": "code",
   "execution_count": 48,
   "metadata": {},
   "outputs": [
    {
     "name": "stdout",
     "output_type": "stream",
     "text": [
      "Menggunakan ljust\n",
      "Rafli Pratama                 \n"
     ]
    }
   ],
   "source": [
    "#ljust\n",
    "print('Menggunakan ljust')\n",
    "print(nama_user.ljust(30))"
   ]
  },
  {
   "cell_type": "code",
   "execution_count": 50,
   "metadata": {},
   "outputs": [
    {
     "name": "stdout",
     "output_type": "stream",
     "text": [
      "Menggunakan rjust\n",
      "                 Rafli Pratama\n"
     ]
    }
   ],
   "source": [
    "#rjust\n",
    "nama_user = 'Rafli Pratama'\n",
    "print('Menggunakan rjust')\n",
    "print(nama_user.rjust(30))"
   ]
  },
  {
   "cell_type": "code",
   "execution_count": 49,
   "metadata": {},
   "outputs": [
    {
     "name": "stdout",
     "output_type": "stream",
     "text": [
      "Menggunakan lower\n",
      "rafli pratama\n"
     ]
    }
   ],
   "source": [
    "#lower\n",
    "nama_user = 'Rafli Pratama'\n",
    "print('Menggunakan lower')\n",
    "print(nama_user.lower())"
   ]
  },
  {
   "cell_type": "code",
   "execution_count": 51,
   "metadata": {},
   "outputs": [
    {
     "name": "stdout",
     "output_type": "stream",
     "text": [
      "Menggunakan Upper\n",
      "RAFLI PRATAMA\n"
     ]
    }
   ],
   "source": [
    "#upper\n",
    "nama_user = 'Rafli Pratama'\n",
    "print('Menggunakan Upper')\n",
    "print(nama_user.upper())"
   ]
  },
  {
   "cell_type": "code",
   "execution_count": 52,
   "metadata": {},
   "outputs": [
    {
     "name": "stdout",
     "output_type": "stream",
     "text": [
      "Menggunakan method find\n",
      "Huruf a muncul pada index ke-1\n"
     ]
    }
   ],
   "source": [
    "#find\n",
    "nama_user = 'Rafli Pratama'\n",
    "huruf = 'a'\n",
    "print('Menggunakan method find')\n",
    "print(f'Huruf {huruf} muncul pada index ke-{nama_user.find(huruf)}')"
   ]
  },
  {
   "cell_type": "code",
   "execution_count": 53,
   "metadata": {},
   "outputs": [
    {
     "name": "stdout",
     "output_type": "stream",
     "text": [
      "Menggunakan method split\n",
      "['Rafli', 'Pratama']\n"
     ]
    }
   ],
   "source": [
    "#split\n",
    "nama_user = 'Rafli Pratama'\n",
    "print('Menggunakan method split')\n",
    "print(nama_user.split(' '))"
   ]
  },
  {
   "cell_type": "code",
   "execution_count": null,
   "metadata": {},
   "outputs": [],
   "source": [
    "#tipe data tuple\n",
    "tup1 = (1,2,'tiga')\n",
    "print(tup1)\n",
    "print(f'di atas adalah tipe data {type(tup1)}')\n",
    "print()"
   ]
  },
  {
   "cell_type": "code",
   "execution_count": null,
   "metadata": {},
   "outputs": [],
   "source": [
    "#tipe data dictionary\n",
    "dict1 = {'nama' : 'Rafli'}\n",
    "print(dict1)\n",
    "print(f'di atas adlaah tipe data {type(dict1)}')\n",
    "print()"
   ]
  },
  {
   "cell_type": "code",
   "execution_count": 11,
   "metadata": {},
   "outputs": [
    {
     "name": "stdout",
     "output_type": "stream",
     "text": [
      "{1, 2, 'b', 3, 4, 'c', 'd', 'a'}\n",
      "{1, 2, 3, 4, 5, 6}\n"
     ]
    }
   ],
   "source": [
    "#set dan method pada set\n",
    "#Struktur set\n",
    "\n",
    "#set dengan nilai campuran\n",
    "data = {'a', 'b','c','d',1,2,3,4}\n",
    "print(data)\n",
    "\n",
    "#set tidak menampung nilai yang sama\n",
    "x = {1,2,3,4,5,6,1,2,3,4}\n",
    "print(x)\n",
    "\n"
   ]
  },
  {
   "cell_type": "code",
   "execution_count": 54,
   "metadata": {},
   "outputs": [
    {
     "name": "stdout",
     "output_type": "stream",
     "text": [
      "{1, 2, 'b', 3, 4, 'c', 'd', 'a'}\n",
      "{1, 2, 'b', 3, 4, 10, 'c', 'd', 'a'}\n"
     ]
    }
   ],
   "source": [
    "data = {'a', 'b','c','d',1,2,3,4}\n",
    "print(data)\n",
    "\n",
    "#tambahkan nilai 10 dengan fungsi add()\n",
    "data.add(10)\n",
    "print(data)\n",
    "\n",
    "#tambahkan nilai 11,12,13 menggunakan fungsi update()\n",
    "data.update({11,12,13})"
   ]
  },
  {
   "cell_type": "code",
   "execution_count": 12,
   "metadata": {},
   "outputs": [
    {
     "name": "stdout",
     "output_type": "stream",
     "text": [
      "{1, 2, 'b', 3, 4, 'c', 'd', 'a'}\n",
      "{1, 2, 'b', 4, 'c', 'd', 'a'}\n"
     ]
    },
    {
     "ename": "KeyError",
     "evalue": "5",
     "output_type": "error",
     "traceback": [
      "\u001b[1;31m---------------------------------------------------------------------------\u001b[0m",
      "\u001b[1;31mKeyError\u001b[0m                                  Traceback (most recent call last)",
      "Cell \u001b[1;32mIn[12], line 7\u001b[0m\n\u001b[0;32m      5\u001b[0m data\u001b[39m.\u001b[39mremove(\u001b[39m3\u001b[39m)\n\u001b[0;32m      6\u001b[0m \u001b[39mprint\u001b[39m(data)\n\u001b[1;32m----> 7\u001b[0m data\u001b[39m.\u001b[39;49mremove(\u001b[39m5\u001b[39;49m)\n\u001b[0;32m      8\u001b[0m \u001b[39mprint\u001b[39m(data)\n",
      "\u001b[1;31mKeyError\u001b[0m: 5"
     ]
    }
   ],
   "source": [
    "data = {'a', 'b','c','d',1,2,3,4}\n",
    "print(data)\n",
    "\n",
    "#menghapus anggota menggunakan fungsi remove()\n",
    "data.remove(3)\n",
    "print(data)\n",
    "data.remove(5)\n",
    "print(data)"
   ]
  },
  {
   "cell_type": "code",
   "execution_count": 13,
   "metadata": {},
   "outputs": [
    {
     "name": "stdout",
     "output_type": "stream",
     "text": [
      "{1, 2, 'b', 3, 4, 'c', 'd', 'a'}\n",
      "{1, 2, 'b', 4, 'c', 'd', 'a'}\n",
      "{1, 2, 'b', 4, 'c', 'd', 'a'}\n"
     ]
    }
   ],
   "source": [
    "data = {'a', 'b','c','d',1,2,3,4}\n",
    "print(data)\n",
    "\n",
    "#menghapus anggota menggunakan fungsi discard()\n",
    "data.discard(3)\n",
    "print(data)\n",
    "data.discard(5)\n",
    "print(data)"
   ]
  },
  {
   "cell_type": "code",
   "execution_count": 14,
   "metadata": {},
   "outputs": [
    {
     "name": "stdout",
     "output_type": "stream",
     "text": [
      "set()\n"
     ]
    }
   ],
   "source": [
    "data = {1,2,3,4,5,6}\n",
    "for i in range(9):\n",
    "    data.discard(i)\n",
    "print(data)"
   ]
  },
  {
   "cell_type": "code",
   "execution_count": 55,
   "metadata": {},
   "outputs": [
    {
     "name": "stdout",
     "output_type": "stream",
     "text": [
      "Method Union untuk menggabungkan set\n",
      "Menggunakan | untuk menggabungkan set : {1, 2, 3, 4, 7, 8}\n",
      "Mengunakan fungsi .union() untuk menggabgungkan set : {1, 2, 3, 4, 7, 8}\n"
     ]
    }
   ],
   "source": [
    "print('Method Union untuk menggabungkan set')\n",
    "set1 = {1,2,3,4}\n",
    "set2 = {1,2,7,8}\n",
    "set3 = (set1 | set2)\n",
    "print(f'Menggunakan | untuk menggabungkan set : {set3}')\n",
    "set4 = set1.union(set2)\n",
    "print(f'Mengunakan fungsi .union() untuk menggabgungkan set : {set4}')"
   ]
  },
  {
   "cell_type": "code",
   "execution_count": 56,
   "metadata": {},
   "outputs": [
    {
     "name": "stdout",
     "output_type": "stream",
     "text": [
      "Menggunakan method Intersection atau & untuk mengiris set\n",
      "Menggunakan & untuk mengiris set : {1, 2}\n",
      "Menggunakan fungsi .intersection() untuk mengiris set : {1, 2}\n"
     ]
    }
   ],
   "source": [
    "print('Menggunakan method Intersection atau & untuk mengiris set')\n",
    "set1 = {1,2,3,4}\n",
    "set2 = {1,2,7,8}\n",
    "set3 = (set1 & set2)\n",
    "print(f'Menggunakan & untuk mengiris set : {set3}')\n",
    "set4 = set1.intersection(set2)\n",
    "print(f'Menggunakan fungsi .intersection() untuk mengiris set : {set4}')"
   ]
  },
  {
   "cell_type": "code",
   "execution_count": 57,
   "metadata": {},
   "outputs": [
    {
     "name": "stdout",
     "output_type": "stream",
     "text": [
      "Menggunakan method - atau difference untuk menentukan selisih set\n",
      "Menggunakan - untuk menentukan selisih dari set : {3, 4}\n",
      "Menggunakan fungsi .difference() untuk menentukan selisih set : {3, 4}\n"
     ]
    }
   ],
   "source": [
    "print('Menggunakan method - atau difference untuk menentukan selisih set')\n",
    "set1 = {1,2,3,4}\n",
    "set2 = {1,2,7,8}\n",
    "set4 = (set1 - set2)\n",
    "print(f'Menggunakan - untuk menentukan selisih dari set : {set4}')\n",
    "set3 = set1.difference(set2)\n",
    "print(f'Menggunakan fungsi .difference() untuk menentukan selisih set : {set3}')"
   ]
  },
  {
   "cell_type": "code",
   "execution_count": 58,
   "metadata": {},
   "outputs": [
    {
     "name": "stdout",
     "output_type": "stream",
     "text": [
      "Menggunakan tanda ^ atau fungsi symmetric_difference() untuk menentukan komplemen dari set\n",
      "Menggunakan tanda ^ untuk menentukan kompelen set : {3, 4, 7, 8}\n",
      "Menggunakan fungsi .symmertric_different untuk meentukan komplemen set : {3, 4, 7, 8}\n",
      "\n"
     ]
    }
   ],
   "source": [
    "print('Menggunakan tanda ^ atau fungsi symmetric_difference() untuk menentukan komplemen dari set')\n",
    "set1 = {1,2,3,4}\n",
    "set2 = {1,2,7,8}\n",
    "set3 = (set1 ^ set2)\n",
    "print(f'Menggunakan tanda ^ untuk menentukan kompelen set : {set3}')\n",
    "set4 = set1.symmetric_difference(set2)\n",
    "print(f'Menggunakan fungsi .symmertric_different untuk meentukan komplemen set : {set4}')\n",
    "print()"
   ]
  },
  {
   "cell_type": "code",
   "execution_count": 15,
   "metadata": {},
   "outputs": [
    {
     "name": "stdout",
     "output_type": "stream",
     "text": [
      "{1, 2, 3, 4, 5, 6, 200, 100, 300, 'Boolean'}\n"
     ]
    }
   ],
   "source": [
    "data = {1,2,3,4,5,6,1,2,3,4,5,6,'Boolean'}\n",
    "data.update([100,200,300])\n",
    "print(data)"
   ]
  },
  {
   "cell_type": "code",
   "execution_count": null,
   "metadata": {},
   "outputs": [],
   "source": [
    "# Struktur Tuple\n",
    "tupleA = (1111,2222,'Hai')\n",
    "print(tupleA)"
   ]
  },
  {
   "cell_type": "code",
   "execution_count": 16,
   "metadata": {},
   "outputs": [
    {
     "name": "stdout",
     "output_type": "stream",
     "text": [
      "struktur data\n",
      "data\n"
     ]
    }
   ],
   "source": [
    "#Akses tuple\n",
    "isi = ('struktur data')\n",
    "isi1 = ('struktur', 'data')\n",
    "print(isi)\n",
    "print(isi1[1])"
   ]
  },
  {
   "cell_type": "code",
   "execution_count": 59,
   "metadata": {},
   "outputs": [
    {
     "name": "stdout",
     "output_type": "stream",
     "text": [
      "(567, 'struktur', 'data', 'kuliah')\n"
     ]
    }
   ],
   "source": [
    "data = (567, 'struktur', 'data', 'kuliah')\n",
    "print(data[0:4])"
   ]
  },
  {
   "cell_type": "code",
   "execution_count": 18,
   "metadata": {},
   "outputs": [
    {
     "name": "stdout",
     "output_type": "stream",
     "text": [
      "(('Saya', 'belajar', 'struktur data'), ['kuliahnya', 3, 'sks'])\n",
      "belajar\n"
     ]
    }
   ],
   "source": [
    "#nested tuple\n",
    "\n",
    "tp1 = ('Saya', 'belajar', 'struktur data')\n",
    "tp2 = ['kuliahnya', 3, 'sks']\n",
    "tp3 = (tp1,tp2)\n",
    "print(tp3)\n",
    "print(tp3[0][1])"
   ]
  },
  {
   "cell_type": "code",
   "execution_count": 20,
   "metadata": {},
   "outputs": [
    {
     "name": "stdout",
     "output_type": "stream",
     "text": [
      "{'nama': 'Rafli Pratama', 'umur': 19, 'tinggi': 165, 'hobi': ['membaca', 'menulis'], 'kontak': {'No HP': '089694226167', 'email': 'h1101241008@student.untan.ac.id'}}\n"
     ]
    }
   ],
   "source": [
    "#dictionary\n",
    "\n",
    "mahasiswa = {\n",
    "    'nama' : 'Rafli Pratama',\n",
    "    'umur' : 19,\n",
    "    'tinggi' : 165,\n",
    "    'hobi' : ['membaca', 'menulis'],\n",
    "    'kontak' : {\n",
    "        'No HP' : '089694226167',\n",
    "        'email' : 'h1101241008@student.untan.ac.id'\n",
    "    }\n",
    "}\n",
    "\n",
    "print(mahasiswa)"
   ]
  },
  {
   "cell_type": "code",
   "execution_count": 60,
   "metadata": {},
   "outputs": [],
   "source": [
    "#cara pertama\n",
    "buku = {\n",
    "    'nama' : 'Rafli Pratama',\n",
    "    'lulusan' : 'smanda'\n",
    "}\n"
   ]
  },
  {
   "cell_type": "code",
   "execution_count": 61,
   "metadata": {},
   "outputs": [
    {
     "name": "stdout",
     "output_type": "stream",
     "text": [
      "{}\n",
      "{'nama': 'Rafli Pratama', 'umur': 19, 'sekolah': 'Smanda ptk'}\n"
     ]
    }
   ],
   "source": [
    "inidict = {}\n",
    "dict = {'nama' : 'Rafli Pratama', 'umur' : 19, 'sekolah' : 'Smanda ptk'}\n",
    "print(inidict)\n",
    "print(dict)"
   ]
  },
  {
   "cell_type": "code",
   "execution_count": 62,
   "metadata": {},
   "outputs": [
    {
     "name": "stdout",
     "output_type": "stream",
     "text": [
      "Rafli Pratama 19 Smanda ptk\n"
     ]
    }
   ],
   "source": [
    "\n",
    "dict = {'nama' : 'Rafli Pratama', 'umur' : 19, 'sekolah' : 'Smanda ptk'}\n",
    "print(dict['nama'], dict['umur'], dict['sekolah'])"
   ]
  },
  {
   "cell_type": "code",
   "execution_count": 26,
   "metadata": {},
   "outputs": [
    {
     "name": "stdout",
     "output_type": "stream",
     "text": [
      "Rafli Pratama 19 Smanda ptk\n"
     ]
    },
    {
     "data": {
      "text/plain": [
       "dict_items([('nama', 'Rafli Pratama'), ('umur', 19), ('sekolah', 'Smanda ptk')])"
      ]
     },
     "execution_count": 26,
     "metadata": {},
     "output_type": "execute_result"
    }
   ],
   "source": [
    "dict = {'nama' : 'Rafli Pratama', 'umur' : 19, 'sekolah' : 'Smanda ptk'}\n",
    "dict.items()"
   ]
  },
  {
   "cell_type": "code",
   "execution_count": 63,
   "metadata": {},
   "outputs": [
    {
     "data": {
      "text/plain": [
       "dict_keys(['nama', 'umur', 'sekolah'])"
      ]
     },
     "execution_count": 63,
     "metadata": {},
     "output_type": "execute_result"
    }
   ],
   "source": [
    "dict = {'nama' : 'Rafli Pratama', 'umur' : 19, 'sekolah' : 'Smanda ptk'}\n",
    "dict.keys()"
   ]
  },
  {
   "cell_type": "code",
   "execution_count": 67,
   "metadata": {},
   "outputs": [
    {
     "name": "stdout",
     "output_type": "stream",
     "text": [
      "{'nama': 'Rafli Pratama', 'umur': 19, 'angkatan': 2024, 'asal': 'pontianak'}\n"
     ]
    }
   ],
   "source": [
    "dict = {'nama' : 'Rafli Pratama', 'umur' : 19, 'angkatan' : 2024}\n",
    "dict['asal'] = 'pontianak'\n",
    "print(dict)"
   ]
  },
  {
   "cell_type": "code",
   "execution_count": 68,
   "metadata": {},
   "outputs": [
    {
     "name": "stdout",
     "output_type": "stream",
     "text": [
      "{'nama': 'Rafli Pratama', 'umur': 18, 'angkatan': 2024}\n",
      "{'nama': 'Rafli Pratama', 'umur': 18, 'angkatan': 2024, 'program studi': 'sistem informasi'}\n"
     ]
    }
   ],
   "source": [
    "dict = {'nama' : 'Rafli Pratama', 'umur' : 19, 'angkatan' : 2024}\n",
    "dict['umur'] = 18\n",
    "print(dict)\n",
    "dict['program studi'] = 'sistem informasi'\n",
    "print(dict)"
   ]
  },
  {
   "cell_type": "code",
   "execution_count": 69,
   "metadata": {},
   "outputs": [
    {
     "name": "stdout",
     "output_type": "stream",
     "text": [
      "{'nama': 'Rafli Pratama', 'umur': 19, 'angkatan': 2024}\n",
      "{'umur': 19, 'angkatan': 2024}\n"
     ]
    }
   ],
   "source": [
    "dict = {'nama' : 'Rafli Pratama', 'umur' : 19, 'angkatan' : 2024}\n",
    "print(dict)\n",
    "del dict['nama']\n",
    "print(dict)"
   ]
  },
  {
   "cell_type": "code",
   "execution_count": 70,
   "metadata": {},
   "outputs": [
    {
     "name": "stdout",
     "output_type": "stream",
     "text": [
      "{'nama': 'Rafli Pratama', 'umur': 19, 'angkatan': 2024}\n",
      "{'umur': 19, 'angkatan': 2024}\n"
     ]
    }
   ],
   "source": [
    "dict = {'nama' : 'Rafli Pratama', 'umur' : 19, 'angkatan' : 2024}\n",
    "print(dict)\n",
    "dict.pop('nama')\n",
    "print(dict)"
   ]
  },
  {
   "cell_type": "code",
   "execution_count": 71,
   "metadata": {},
   "outputs": [
    {
     "name": "stdout",
     "output_type": "stream",
     "text": [
      "{'nama': 'Rafli Pratama', 'umur': 19, 'tinggi': 165, 'hobi': ['membaca', 'menulis'], 'kontak': {'No HP': '089694226167', 'email': 'h1101241008@student.untan.ac.id'}}\n",
      "5\n"
     ]
    }
   ],
   "source": [
    "mahasiswa = {\n",
    "    'nama' : 'Rafli Pratama',\n",
    "    'umur' : 19,\n",
    "    'tinggi' : 165,\n",
    "    'hobi' : ['membaca', 'menulis'],\n",
    "    'kontak' : {\n",
    "        'No HP' : '089694226167',\n",
    "        'email' : 'h1101241008@student.untan.ac.id'\n",
    "    }\n",
    "}\n",
    "\n",
    "print(mahasiswa)\n",
    "print(len(mahasiswa))"
   ]
  },
  {
   "cell_type": "code",
   "execution_count": 28,
   "metadata": {},
   "outputs": [
    {
     "name": "stdout",
     "output_type": "stream",
     "text": [
      "Biodata mahasiswa : \n",
      "nama : Rafli Pratama\n",
      "umur : 19\n",
      "tinggi : 165\n",
      "hobi : ['membaca', 'menulis']\n",
      "kontak : {'No HP': '089694226167', 'email': 'h1101241008@student.untan.ac.id'}\n"
     ]
    }
   ],
   "source": [
    "mahasiswa = {\n",
    "    'nama' : 'Rafli Pratama',\n",
    "    'umur' : 19,\n",
    "    'tinggi' : 165,\n",
    "    'hobi' : ['membaca', 'menulis'],\n",
    "    'kontak' : {\n",
    "        'No HP' : '089694226167',\n",
    "        'email' : 'h1101241008@student.untan.ac.id'\n",
    "    }\n",
    "}\n",
    "\n",
    "print('Biodata mahasiswa : ')\n",
    "for key,value in mahasiswa.items():\n",
    "    print(f'{key} : {value}')"
   ]
  }
 ],
 "metadata": {
  "kernelspec": {
   "display_name": "Python 3",
   "language": "python",
   "name": "python3"
  },
  "language_info": {
   "codemirror_mode": {
    "name": "ipython",
    "version": 3
   },
   "file_extension": ".py",
   "mimetype": "text/x-python",
   "name": "python",
   "nbconvert_exporter": "python",
   "pygments_lexer": "ipython3",
   "version": "3.12.3"
  },
  "orig_nbformat": 4
 },
 "nbformat": 4,
 "nbformat_minor": 2
}
